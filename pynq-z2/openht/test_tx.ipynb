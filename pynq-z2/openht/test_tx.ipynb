{
 "cells": [
  {
   "cell_type": "code",
   "execution_count": 1,
   "id": "8448bd96",
   "metadata": {
    "scrolled": false
   },
   "outputs": [
    {
     "data": {
      "application/javascript": [
       "\n",
       "try {\n",
       "require(['notebook/js/codecell'], function(codecell) {\n",
       "  codecell.CodeCell.options_default.highlight_modes[\n",
       "      'magic_text/x-csrc'] = {'reg':[/^%%microblaze/]};\n",
       "  Jupyter.notebook.events.one('kernel_ready.Kernel', function(){\n",
       "      Jupyter.notebook.get_cells().map(function(cell){\n",
       "          if (cell.cell_type == 'code'){ cell.auto_highlight(); } }) ;\n",
       "  });\n",
       "});\n",
       "} catch (e) {};\n"
      ]
     },
     "metadata": {},
     "output_type": "display_data"
    },
    {
     "data": {
      "application/javascript": [
       "\n",
       "try {\n",
       "require(['notebook/js/codecell'], function(codecell) {\n",
       "  codecell.CodeCell.options_default.highlight_modes[\n",
       "      'magic_text/x-csrc'] = {'reg':[/^%%pybind11/]};\n",
       "  Jupyter.notebook.events.one('kernel_ready.Kernel', function(){\n",
       "      Jupyter.notebook.get_cells().map(function(cell){\n",
       "          if (cell.cell_type == 'code'){ cell.auto_highlight(); } }) ;\n",
       "  });\n",
       "});\n",
       "} catch (e) {};\n"
      ]
     },
     "metadata": {},
     "output_type": "display_data"
    },
    {
     "name": "stdout",
     "output_type": "stream",
     "text": [
      "axi_gpio_0\n",
      "openht_wrapper_0\n",
      "rx_driver/rx_fifo2apb_0\n",
      "tx_driver/tx_fifo2apb_0\n",
      "cpu0\n"
     ]
    }
   ],
   "source": [
    "from pynq import Overlay\n",
    "from pynq import MMIO\n",
    "\n",
    "ol = Overlay(\"openht.bit\")\n",
    "\n",
    "for item in ol.ip_dict:\n",
    "    print(item)\n",
    "\n",
    "baseaddr = int(ol.ip_dict['openht_wrapper_0']['parameters']['C_BASEADDR'], 16)\n",
    "baseaddr_rx = int(ol.ip_dict['rx_driver/rx_fifo2apb_0']['parameters']['C_BASEADDR'], 16)\n",
    "baseaddr_tx = int(ol.ip_dict['tx_driver/tx_fifo2apb_0']['parameters']['C_BASEADDR'], 16)\n",
    "\n",
    "def addr(ip, offset):\n",
    "    return (ip << 13) + offset*2 \n",
    "\n",
    "openht_mm = MMIO(baseaddr, 65536)\n",
    "tx_mm = MMIO(baseaddr_tx, 65536)\n",
    "rx_mm = MMIO(baseaddr_rx, 65536)"
   ]
  },
  {
   "cell_type": "code",
   "execution_count": null,
   "id": "0c79e57b",
   "metadata": {},
   "outputs": [],
   "source": [
    "print(openht_mm.read(addr(3, 8)))\n",
    "\n",
    "openht_mm.write(addr(2, 4), 1)\n",
    "openht_mm.write(addr(2, 6), 1)\n",
    "\n",
    "openht_mm.write(addr(4, 4), 1)\n",
    "openht_mm.write(addr(4, 6), 1)\n",
    "\n",
    "openht_mm.write(addr(5, 4), 1)\n",
    "openht_mm.write(addr(5, 6), 1)\n",
    "\n",
    "openht_mm.write(addr(6, 4), 1)\n",
    "openht_mm.write(addr(6, 6), 1)\n"
   ]
  },
  {
   "cell_type": "code",
   "execution_count": 5,
   "id": "7dc76ed0",
   "metadata": {
    "scrolled": false
   },
   "outputs": [
    {
     "name": "stderr",
     "output_type": "stream",
     "text": [
      "\n",
      "KeyboardInterrupt\n",
      "\n"
     ]
    }
   ],
   "source": [
    "import socket\n",
    "import numpy as np\n",
    "\n",
    "UDP_IP = \"0.0.0.0\"\n",
    "TX_UDP_PORT = 10000\n",
    "TX_RESP_UDP_PORT = 10001\n",
    "\n",
    "sock = socket.socket(socket.AF_INET, # Internet\n",
    "                         socket.SOCK_DGRAM) # UDP\n",
    "sock.setsockopt(socket.SOL_SOCKET, socket.SO_REUSEADDR, 1)\n",
    "sock.bind((UDP_IP, TX_UDP_PORT))\n",
    "\n",
    "def get_data_from_gr(sock):\n",
    "    while True:\n",
    "        data, udp_addr = sock.recvfrom(1500)\n",
    "        float_data = np.frombuffer(data, dtype=np.single) * 0x7FFF\n",
    "        tx_result = []\n",
    "        for i, item in enumerate(float_data):\n",
    "            status = openht_mm.read(addr(0, 10))\n",
    "            openht_mm.write(addr(0, 8), int(item))\n",
    "\n",
    "            tx_count = tx_mm.read(0)\n",
    "            for read in range(tx_count):\n",
    "                tx_data = tx_mm.read(4)\n",
    "                tx_data_i = tx_data >> 16\n",
    "                tx_data_q = tx_data & 0xFFFF\n",
    "\n",
    "                tx_result.append(tx_data_i if tx_data_i < 32768 else tx_data_i - 65536)\n",
    "                tx_result.append(tx_data_q if tx_data_q < 32768 else tx_data_q - 65536)\n",
    "\n",
    "        tx_response = np.asarray(tx_result, dtype=np.single) / 0x8000\n",
    "        sent = sock.sendto(tx_response, (udp_addr[0], TX_RESP_UDP_PORT))\n",
    "\n",
    "get_data_from_gr(sock)"
   ]
  }
 ],
 "metadata": {
  "kernelspec": {
   "display_name": "Python 3 (ipykernel)",
   "language": "python",
   "name": "python3"
  },
  "language_info": {
   "codemirror_mode": {
    "name": "ipython",
    "version": 3
   },
   "file_extension": ".py",
   "mimetype": "text/x-python",
   "name": "python",
   "nbconvert_exporter": "python",
   "pygments_lexer": "ipython3",
   "version": "3.10.4"
  }
 },
 "nbformat": 4,
 "nbformat_minor": 5
}
